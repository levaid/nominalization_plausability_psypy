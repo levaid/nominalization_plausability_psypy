{
 "cells": [
  {
   "cell_type": "code",
   "execution_count": 21,
   "metadata": {},
   "outputs": [],
   "source": [
    "import scipy.stats as stats\n",
    "import pandas as pd\n",
    "import numpy as np\n",
    "import matplotlib.pyplot as plt"
   ]
  },
  {
   "cell_type": "code",
   "execution_count": 3,
   "metadata": {},
   "outputs": [],
   "source": [
    "df = pd.read_excel('../stats/ANALIZISRE/all_data.xlsx')"
   ]
  },
  {
   "cell_type": "code",
   "execution_count": 12,
   "metadata": {},
   "outputs": [
    {
     "data": {
      "text/plain": [
       "Index(['stimulus_name', 'stimulus_type', 'stimulus_id', 'stimulus_plaus',\n",
       "       'word_order', 'nom_1_X', 'nom_2_O', 'retried', 'key_resp.keys',\n",
       "       'answer', 'answer_role', 'key_resp.rt', 'nom1_indented',\n",
       "       'nom2_indented', 'stimulus.started', 'stimulus.stopped', 'participant',\n",
       "       'session', 'date', 'list_name', 'random_seed', 'frameRate',\n",
       "       'Unnamed: 22'],\n",
       "      dtype='object')"
      ]
     },
     "execution_count": 12,
     "metadata": {},
     "output_type": "execute_result"
    }
   ],
   "source": [
    "df.columns"
   ]
  },
  {
   "cell_type": "markdown",
   "metadata": {},
   "source": [
    "## Plauzibilis és implauzibilis jeleneteknél különböző idő alatt nyomják-e a tesztalanyok a gombot?"
   ]
  },
  {
   "cell_type": "code",
   "execution_count": 35,
   "metadata": {},
   "outputs": [
    {
     "name": "stdout",
     "output_type": "stream",
     "text": [
      "(0.9830576181411743, 1.437859520336815e-08)\n",
      "4.026989659090909 1.3829338514614737\n",
      "(0.9781509041786194, 3.300081874435534e-10)\n",
      "3.813581136363637 1.3357039884827435\n",
      "MannwhitneyuResult(statistic=352071.5, pvalue=0.0004917592729558675)\n"
     ]
    }
   ],
   "source": [
    "s1, s2 = df.loc[df['stimulus_plaus'] == 'implaus']['key_resp.rt'], df.loc[df['stimulus_plaus'] == 'plaus']['key_resp.rt']\n",
    "print(stats.shapiro(s1))\n",
    "print(np.mean(s1), np.std(s1))\n",
    "print(stats.shapiro(s2))\n",
    "print(np.mean(s2), np.std(s2))\n",
    "\n",
    "print(stats.mannwhitneyu(s1, s2))"
   ]
  },
  {
   "cell_type": "markdown",
   "metadata": {},
   "source": [
    "### Igen.\n",
    "Nem normálisak az eloszlások, nem tudunk paraméteres próbát használni, így Mann Whitneyt kell használnunk.\n",
    "Ez azt mutatja, hogy szignifikáns a különbség, tehát az implauzibilis jeleneteknél több időt töltöttek a gomb megnyomásával."
   ]
  },
  {
   "cell_type": "markdown",
   "metadata": {},
   "source": [
    "## A mondat szórendje befolyásolja-e a gombnyomás idejét?"
   ]
  },
  {
   "cell_type": "code",
   "execution_count": 36,
   "metadata": {},
   "outputs": [
    {
     "name": "stdout",
     "output_type": "stream",
     "text": [
      "(0.9838947653770447, 0.00021533644758164883)\n",
      "3.951196212121212 1.4357568135437029\n",
      "(0.9665507674217224, 4.73958206015368e-09)\n",
      "3.6405493801652895 1.4110438851011808\n",
      "MannwhitneyuResult(statistic=83035.0, pvalue=0.0003232351523540144)\n"
     ]
    }
   ],
   "source": [
    "s1, s2 = df.loc[df['word_order'] == 'OVS']['key_resp.rt'], df.loc[df['word_order'] == 'SVO']['key_resp.rt']\n",
    "print(stats.shapiro(s1))\n",
    "print(np.mean(s1), np.std(s1))\n",
    "print(stats.shapiro(s2))\n",
    "print(np.mean(s2), np.std(s2))\n",
    "\n",
    "print(stats.mannwhitneyu(s1, s2))"
   ]
  },
  {
   "cell_type": "markdown",
   "metadata": {},
   "source": [
    "### Igen, az OVS több idő."
   ]
  },
  {
   "cell_type": "markdown",
   "metadata": {},
   "source": [
    "## Gombnyomások befolyása a gomb és a válasz helyzetére? (fent, lent, o, x)"
   ]
  },
  {
   "cell_type": "code",
   "execution_count": 40,
   "metadata": {},
   "outputs": [
    {
     "name": "stdout",
     "output_type": "stream",
     "text": [
      "(0.9785735607147217, 6.754377612772089e-10)\n",
      "3.896769194865811 1.3588178742950747\n",
      "(0.9819102883338928, 3.864282227539206e-09)\n",
      "3.94260365448505 1.36795322552275\n",
      "MannwhitneyuResult(statistic=379299.5, pvalue=0.236842376347824)\n",
      "(0.9776185154914856, 1.4952426796721596e-10)\n",
      "3.9135073089701 1.354137300410475\n",
      "(0.9831515550613403, 2.2901623708548868e-08)\n",
      "3.922669626168224 1.3674052424628236\n",
      "MannwhitneyuResult(statistic=382946.0, pvalue=0.3698545787135207)\n"
     ]
    }
   ],
   "source": [
    "s1, s2 = df.loc[df['nom1_indented'] == 0]['key_resp.rt'], df.loc[df['nom1_indented'] == 1]['key_resp.rt']\n",
    "print(stats.shapiro(s1))\n",
    "print(np.mean(s1), np.std(s1))\n",
    "print(stats.shapiro(s2))\n",
    "print(np.mean(s2), np.std(s2))\n",
    "print(stats.mannwhitneyu(s1, s2))\n",
    "s1, s2 = df.loc[df['key_resp.keys'] == 'o']['key_resp.rt'], df.loc[df['key_resp.keys'] == 'x']['key_resp.rt']\n",
    "print(stats.shapiro(s1))\n",
    "print(np.mean(s1), np.std(s1))\n",
    "print(stats.shapiro(s2))\n",
    "print(np.mean(s2), np.std(s2))\n",
    "print(stats.mannwhitneyu(s1, s2))"
   ]
  },
  {
   "cell_type": "markdown",
   "metadata": {},
   "source": [
    "### **Nem** befolyásolja az indentálás és a gomb helye a válaszidőt."
   ]
  },
  {
   "cell_type": "markdown",
   "metadata": {},
   "source": [
    "## Ágens/páciens alapú mondat befolyása a válaszidőre"
   ]
  },
  {
   "cell_type": "code",
   "execution_count": 46,
   "metadata": {},
   "outputs": [
    {
     "name": "stdout",
     "output_type": "stream",
     "text": [
      "(0.9912786483764648, 0.03080090507864952)\n",
      "4.156793663911846 1.3855738568838416\n",
      "(0.9771661758422852, 4.4363540347824165e-14)\n",
      "3.8558640401146134 1.3471347023962734\n",
      "MannwhitneyuResult(statistic=218370.0, pvalue=2.4513073196336298e-05)\n"
     ]
    }
   ],
   "source": [
    "s1, s2 = df.loc[df['answer_role'] == 'a']['key_resp.rt'], df.loc[df['answer_role'] == 'p']['key_resp.rt']\n",
    "print(stats.shapiro(s1))\n",
    "print(np.mean(s1), np.std(s1))\n",
    "print(stats.shapiro(s2))\n",
    "print(np.mean(s2), np.std(s2))\n",
    "print(stats.mannwhitneyu(s1, s2))"
   ]
  },
  {
   "cell_type": "markdown",
   "metadata": {},
   "source": [
    "### Befolyásolja, különbözőek."
   ]
  },
  {
   "cell_type": "code",
   "execution_count": null,
   "metadata": {},
   "outputs": [],
   "source": []
  },
  {
   "cell_type": "code",
   "execution_count": null,
   "metadata": {},
   "outputs": [],
   "source": []
  }
 ],
 "metadata": {
  "kernelspec": {
   "display_name": "Python 3.7.3 64-bit ('base': conda)",
   "language": "python",
   "name": "python37364bitbaseconda5542d6e4e3d04f80bb3fcfdf2401e5d3"
  },
  "language_info": {
   "codemirror_mode": {
    "name": "ipython",
    "version": 3
   },
   "file_extension": ".py",
   "mimetype": "text/x-python",
   "name": "python",
   "nbconvert_exporter": "python",
   "pygments_lexer": "ipython3",
   "version": "3.7.3"
  }
 },
 "nbformat": 4,
 "nbformat_minor": 4
}
